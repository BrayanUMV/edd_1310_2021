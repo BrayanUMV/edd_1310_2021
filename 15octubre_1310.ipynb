{
  "nbformat": 4,
  "nbformat_minor": 0,
  "metadata": {
    "colab": {
      "name": "15octubre_1310.ipynb",
      "provenance": []
    },
    "kernelspec": {
      "name": "python3",
      "display_name": "Python 3"
    }
  },
  "cells": [
    {
      "cell_type": "code",
      "metadata": {
        "id": "MEkC6lVe_DWr"
      },
      "source": [
        ""
      ],
      "execution_count": null,
      "outputs": []
    },
    {
      "cell_type": "markdown",
      "metadata": {
        "id": "-UmItvJzCORq"
      },
      "source": [
        "# Modulos\n",
        "Son recursos reutilizables que contienen varias funciones que pueden ser importadas a tu codigo"
      ]
    },
    {
      "cell_type": "code",
      "metadata": {
        "id": "CHfo7jQ1MYEN"
      },
      "source": [
        "import mi_modulo as patito\n",
        "\n",
        "x = mi_modulo.sumar( 4 , 7 )\n",
        "\n",
        "\n",
        "\n",
        "print( patito.multiplicar(3,5))"
      ],
      "execution_count": null,
      "outputs": []
    },
    {
      "cell_type": "code",
      "metadata": {
        "id": "Sp2klmRlNYA8",
        "outputId": "062eee34-556c-4053-c47d-d5ea101207e3",
        "colab": {
          "base_uri": "https://localhost:8080/",
          "height": 34
        }
      },
      "source": [
        "from mi_modulo import dividir\n",
        "\n",
        "print(dividir(4,2))"
      ],
      "execution_count": 6,
      "outputs": [
        {
          "output_type": "stream",
          "text": [
            "2.0\n"
          ],
          "name": "stdout"
        }
      ]
    },
    {
      "cell_type": "code",
      "metadata": {
        "id": "5SB6wqVdCcoh",
        "outputId": "f251e810-d5bc-4b8a-c29b-0103662fad0c",
        "colab": {
          "base_uri": "https://localhost:8080/",
          "height": 51
        }
      },
      "source": [
        "import mi_modulo\n",
        "\n",
        "x = mi_modulo.sumar( 4 , 7 )\n",
        "\n",
        "print( x )\n",
        "\n",
        "print( mi_modulo.multiplicar(3,5))"
      ],
      "execution_count": 5,
      "outputs": [
        {
          "output_type": "stream",
          "text": [
            "11\n",
            "15\n"
          ],
          "name": "stdout"
        }
      ]
    },
    {
      "cell_type": "code",
      "metadata": {
        "id": "3blQmpPLKDrJ",
        "outputId": "57bb92d5-7e08-44d4-a60c-14180ac14f48",
        "colab": {
          "base_uri": "https://localhost:8080/",
          "height": 51
        }
      },
      "source": [
        "from mi_modulo import sumar, dividir\n",
        "\n",
        "print(sumar(4,7))\n",
        "print(dividir(14,7))"
      ],
      "execution_count": 9,
      "outputs": [
        {
          "output_type": "stream",
          "text": [
            "11\n",
            "2.0\n"
          ],
          "name": "stdout"
        }
      ]
    },
    {
      "cell_type": "code",
      "metadata": {
        "id": "GLR7vrSQOIku",
        "outputId": "dc15ce62-ee7c-4f82-92b9-3b27d74b13d2",
        "colab": {
          "base_uri": "https://localhost:8080/",
          "height": 275
        }
      },
      "source": [
        "pip install joke-generator\n"
      ],
      "execution_count": 14,
      "outputs": [
        {
          "output_type": "stream",
          "text": [
            "Collecting joke-generator\n",
            "  Downloading https://files.pythonhosted.org/packages/95/e5/de76c4aff315ad38ab69cd25ea942250a51008e910905c1f8ef80265b15b/joke_generator-1.0.1.tar.gz\n",
            "Requirement already satisfied: requests>=2.22.0 in /usr/local/lib/python3.6/dist-packages (from joke-generator) (2.23.0)\n",
            "Requirement already satisfied: urllib3!=1.25.0,!=1.25.1,<1.26,>=1.21.1 in /usr/local/lib/python3.6/dist-packages (from requests>=2.22.0->joke-generator) (1.24.3)\n",
            "Requirement already satisfied: chardet<4,>=3.0.2 in /usr/local/lib/python3.6/dist-packages (from requests>=2.22.0->joke-generator) (3.0.4)\n",
            "Requirement already satisfied: certifi>=2017.4.17 in /usr/local/lib/python3.6/dist-packages (from requests>=2.22.0->joke-generator) (2020.6.20)\n",
            "Requirement already satisfied: idna<3,>=2.5 in /usr/local/lib/python3.6/dist-packages (from requests>=2.22.0->joke-generator) (2.10)\n",
            "Building wheels for collected packages: joke-generator\n",
            "  Building wheel for joke-generator (setup.py) ... \u001b[?25l\u001b[?25hdone\n",
            "  Created wheel for joke-generator: filename=joke_generator-1.0.1-cp36-none-any.whl size=2075 sha256=0b5c5d76e1045fe30eaee01cdc6d20321db1ed68268ee7da6da072d5d1379edf\n",
            "  Stored in directory: /root/.cache/pip/wheels/b1/e1/1c/42a5a669d05834c31aab52f6f87b1c7d50718f7669d51bd347\n",
            "Successfully built joke-generator\n",
            "Installing collected packages: joke-generator\n",
            "Successfully installed joke-generator-1.0.1\n"
          ],
          "name": "stdout"
        }
      ]
    },
    {
      "cell_type": "code",
      "metadata": {
        "id": "M6FcV5YqPrRq",
        "outputId": "89e4feba-8cbf-4386-8ad0-a90746db2bc5",
        "colab": {
          "base_uri": "https://localhost:8080/",
          "height": 35
        }
      },
      "source": [
        "from joke_generator import generate\n",
        "generate()"
      ],
      "execution_count": 16,
      "outputs": [
        {
          "output_type": "execute_result",
          "data": {
            "application/vnd.google.colaboratory.intrinsic+json": {
              "type": "string"
            },
            "text/plain": [
              "'Where did Captain Hook get his hook? From a second hand store.'"
            ]
          },
          "metadata": {
            "tags": []
          },
          "execution_count": 16
        }
      ]
    },
    {
      "cell_type": "markdown",
      "metadata": {
        "id": "PwtfAjr2SUih"
      },
      "source": [
        "# Archivos \n",
        "\n",
        "- open( str , str )\n",
        "  1. Nombre o ruta del archivo\n",
        "  1. dos caracteres\n",
        "    - Modo de apertura del archivo(r,w,a append si y solo si el archivo existe,x append si y solo si el archivo no existe)\n",
        "    - Formato del archivo(t o b)"
      ]
    },
    {
      "cell_type": "code",
      "metadata": {
        "id": "qNPZM52oSyO5",
        "outputId": "6107c17f-9e04-4c31-d846-eeb380b22e8e",
        "colab": {
          "base_uri": "https://localhost:8080/",
          "height": 51
        }
      },
      "source": [
        "archivo = open(\"saludo.txt\",\"wt\")\n",
        "archivo.write(\"Hola mundo \\n Ola ke aze \")\n",
        "archivo = open(\"saludo.txt\",\"rt\")\n",
        "datos = archivo.read()\n",
        "print(datos)\n",
        "archivo.close()\n"
      ],
      "execution_count": 30,
      "outputs": [
        {
          "output_type": "stream",
          "text": [
            "Hola mundo \n",
            " Ola ke aze \n"
          ],
          "name": "stdout"
        }
      ]
    },
    {
      "cell_type": "code",
      "metadata": {
        "id": "ZmVhjN-VUkqr",
        "outputId": "f9173530-548b-4ee0-e782-fd41611ecc03",
        "colab": {
          "base_uri": "https://localhost:8080/",
          "height": 867
        }
      },
      "source": [
        "otro = open('./sample_data/anscombe.json',\"rt\")\n",
        "datos = otro.read()\n",
        "print(datos)\n",
        "otro.close()"
      ],
      "execution_count": 25,
      "outputs": [
        {
          "output_type": "stream",
          "text": [
            "[\n",
            "  {\"Series\":\"I\", \"X\":10.0, \"Y\":8.04},\n",
            "  {\"Series\":\"I\", \"X\":8.0, \"Y\":6.95},\n",
            "  {\"Series\":\"I\", \"X\":13.0, \"Y\":7.58},\n",
            "  {\"Series\":\"I\", \"X\":9.0, \"Y\":8.81},\n",
            "  {\"Series\":\"I\", \"X\":11.0, \"Y\":8.33},\n",
            "  {\"Series\":\"I\", \"X\":14.0, \"Y\":9.96},\n",
            "  {\"Series\":\"I\", \"X\":6.0, \"Y\":7.24},\n",
            "  {\"Series\":\"I\", \"X\":4.0, \"Y\":4.26},\n",
            "  {\"Series\":\"I\", \"X\":12.0, \"Y\":10.84},\n",
            "  {\"Series\":\"I\", \"X\":7.0, \"Y\":4.81},\n",
            "  {\"Series\":\"I\", \"X\":5.0, \"Y\":5.68},\n",
            "\n",
            "  {\"Series\":\"II\", \"X\":10.0, \"Y\":9.14},\n",
            "  {\"Series\":\"II\", \"X\":8.0, \"Y\":8.14},\n",
            "  {\"Series\":\"II\", \"X\":13.0, \"Y\":8.74},\n",
            "  {\"Series\":\"II\", \"X\":9.0, \"Y\":8.77},\n",
            "  {\"Series\":\"II\", \"X\":11.0, \"Y\":9.26},\n",
            "  {\"Series\":\"II\", \"X\":14.0, \"Y\":8.10},\n",
            "  {\"Series\":\"II\", \"X\":6.0, \"Y\":6.13},\n",
            "  {\"Series\":\"II\", \"X\":4.0, \"Y\":3.10},\n",
            "  {\"Series\":\"II\", \"X\":12.0, \"Y\":9.13},\n",
            "  {\"Series\":\"II\", \"X\":7.0, \"Y\":7.26},\n",
            "  {\"Series\":\"II\", \"X\":5.0, \"Y\":4.74},\n",
            "\n",
            "  {\"Series\":\"III\", \"X\":10.0, \"Y\":7.46},\n",
            "  {\"Series\":\"III\", \"X\":8.0, \"Y\":6.77},\n",
            "  {\"Series\":\"III\", \"X\":13.0, \"Y\":12.74},\n",
            "  {\"Series\":\"III\", \"X\":9.0, \"Y\":7.11},\n",
            "  {\"Series\":\"III\", \"X\":11.0, \"Y\":7.81},\n",
            "  {\"Series\":\"III\", \"X\":14.0, \"Y\":8.84},\n",
            "  {\"Series\":\"III\", \"X\":6.0, \"Y\":6.08},\n",
            "  {\"Series\":\"III\", \"X\":4.0, \"Y\":5.39},\n",
            "  {\"Series\":\"III\", \"X\":12.0, \"Y\":8.15},\n",
            "  {\"Series\":\"III\", \"X\":7.0, \"Y\":6.42},\n",
            "  {\"Series\":\"III\", \"X\":5.0, \"Y\":5.73},\n",
            "\n",
            "  {\"Series\":\"IV\", \"X\":8.0, \"Y\":6.58},\n",
            "  {\"Series\":\"IV\", \"X\":8.0, \"Y\":5.76},\n",
            "  {\"Series\":\"IV\", \"X\":8.0, \"Y\":7.71},\n",
            "  {\"Series\":\"IV\", \"X\":8.0, \"Y\":8.84},\n",
            "  {\"Series\":\"IV\", \"X\":8.0, \"Y\":8.47},\n",
            "  {\"Series\":\"IV\", \"X\":8.0, \"Y\":7.04},\n",
            "  {\"Series\":\"IV\", \"X\":8.0, \"Y\":5.25},\n",
            "  {\"Series\":\"IV\", \"X\":19.0, \"Y\":12.50},\n",
            "  {\"Series\":\"IV\", \"X\":8.0, \"Y\":5.56},\n",
            "  {\"Series\":\"IV\", \"X\":8.0, \"Y\":7.91},\n",
            "  {\"Series\":\"IV\", \"X\":8.0, \"Y\":6.89}\n",
            "]\n",
            "\n"
          ],
          "name": "stdout"
        }
      ]
    },
    {
      "cell_type": "code",
      "metadata": {
        "id": "cv4OrDIEWP2i",
        "outputId": "6a267adf-329f-4335-9a49-a383e8d21075",
        "colab": {
          "base_uri": "https://localhost:8080/",
          "height": 153
        }
      },
      "source": [
        "arch = open('frutas.txt','rt')\n",
        "\n",
        "data = 'a'\n",
        "while (data != ''):\n",
        "  data = arch.readline()\n",
        "  print(data)\n",
        "arch.close()\n",
        "\n",
        "arch = open('frutas.txt','rt')\n",
        "list_frutas = arch.readlines()\n",
        "print(list_frutas)\n",
        "arch.close()"
      ],
      "execution_count": 46,
      "outputs": [
        {
          "output_type": "stream",
          "text": [
            "Manzana, Pera, Kiwi, Aguacate\n",
            "\n",
            "Limon, Naranja\n",
            "\n",
            "Sandia, Papaya\n",
            "\n",
            "\n",
            "['Manzana, Pera, Kiwi, Aguacate\\n', 'Limon, Naranja\\n', 'Sandia, Papaya\\n']\n"
          ],
          "name": "stdout"
        }
      ]
    }
  ]
}