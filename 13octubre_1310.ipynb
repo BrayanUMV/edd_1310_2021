{
  "nbformat": 4,
  "nbformat_minor": 0,
  "metadata": {
    "colab": {
      "name": "13octubre_1310.ipynb",
      "provenance": []
    },
    "kernelspec": {
      "name": "python3",
      "display_name": "Python 3"
    }
  },
  "cells": [
    {
      "cell_type": "code",
      "metadata": {
        "id": "itqbeT6Rtgs7",
        "outputId": "a18b80b1-a54d-4039-a21b-57552c19c94e",
        "colab": {
          "base_uri": "https://localhost:8080/",
          "height": 54
        }
      },
      "source": [
        "alumno = { \n",
        "          \"num_cta\" : 303030303 ,\n",
        "          \"carrera\" : \"ICO\",\n",
        "          \"promedio\" : 9.8,\n",
        "          \"materias\" :[\"EDD\",\"CyP\",\"Calidad\",\"Emprendimiento\"],\n",
        "          \"direccion\" : { \n",
        "                            \"calle\":\"rancho seco\",\n",
        "                            \"numero\" : 23 ,\n",
        "                            \"delegacion\" : \"Neza\",\n",
        "                            \"estado\" : {\n",
        "                                        \"id\" : 15 ,\n",
        "                                        \"nombre\" : \"Estado de Máxico\" ,\n",
        "                                        \"nombre_corto\" : \"EdoMex\"\n",
        "                                        } ,\n",
        "                            \"CP\":57170\n",
        "\n",
        "                        } \n",
        "          }\n",
        "\n",
        "print(alumno)\n",
        "alumno['carrera'] = \"Ing. en computacion\"\n",
        "\n",
        "\n"
      ],
      "execution_count": 2,
      "outputs": [
        {
          "output_type": "stream",
          "text": [
            "{'num_cta': 303030303, 'carrera': 'ICO', 'promedio': 9.8, 'materias': ['EDD', 'CyP', 'Calidad', 'Emprendimiento'], 'direccion': {'calle': 'rancho seco', 'numero': 23, 'delegacion': 'Neza', 'estado': {'id': 15, 'nombre': 'Estado de Máxico', 'nombre_corto': 'EdoMex'}, 'CP': 57170}}\n"
          ],
          "name": "stdout"
        }
      ]
    },
    {
      "cell_type": "code",
      "metadata": {
        "id": "hrqbB5bX1Djg"
      },
      "source": [
        "# key, value() & items()\n",
        "\n",
        "llaves = alumno.keys()\n",
        "print(llaves)\n",
        "for llave in llaves:\n",
        "  print(llave.upper())\n",
        "print (\"\\n__________\")\n",
        "valores = alumno.values()\n",
        "for val in valores:\n",
        "  print(val)\n",
        "\n",
        "pares = alumno.items()\n",
        "print(pares)\n",
        "for elem in pares:\n",
        "  print(f\"el campo {elem[0]} tiene el valor {elem [1]}\")"
      ],
      "execution_count": null,
      "outputs": []
    },
    {
      "cell_type": "code",
      "metadata": {
        "id": "CySATqIt1LO1",
        "outputId": "cfc9b036-ab25-415b-b2fd-fcb74134239e",
        "colab": {
          "base_uri": "https://localhost:8080/",
          "height": 54
        }
      },
      "source": [
        "# Concatenar diccionarios\n",
        "\n",
        "computadora = {\"procesador\":\"Intel i7\",\"ram\":\"Kingston 128GB\"}\n",
        "otros = {\"monitor\":\"LG 49\\\"\",\"hd\":\"Toshiba 1TB\"}\n",
        "#computadora += otros\n",
        "#print(computadora)\n",
        "\n",
        "computadora.update(otros)\n",
        "print(computadora)"
      ],
      "execution_count": 3,
      "outputs": [
        {
          "output_type": "stream",
          "text": [
            "{'procesador': 'Intel i7', 'ram': 'Kingston 128GB', 'monitor': 'LG 49\"', 'hd': 'Toshiba 1TB'}\n"
          ],
          "name": "stdout"
        }
      ]
    },
    {
      "cell_type": "markdown",
      "metadata": {
        "id": "uFDZigRu2mOQ"
      },
      "source": [
        "# Funciones\n",
        "\n",
        "- Unidades de codigo reutilizable\n",
        "- Es un mecanismo de organizacion de codigo\n",
        "- Una funcion toma de 0 a n parametros de entrada\n",
        "- Tiene una sola salida (return) de cualquier tipo de dato\n",
        "- Solo puedes hacer 2 cosas:\n",
        "  - Definirla\n",
        "  - Mandarla a llamar\n",
        "- Se definen con la palabra reservada 'def'\n"
      ]
    },
    {
      "cell_type": "code",
      "metadata": {
        "id": "_Ki9Nq-o3wmF",
        "outputId": "a558848e-2907-4a6f-fa6f-a8806cc49449",
        "colab": {
          "base_uri": "https://localhost:8080/",
          "height": 136
        }
      },
      "source": [
        "def sumar(x,y):\n",
        "  resultado = x + y\n",
        "  return resultado\n",
        "def saludar( nombre ):\n",
        "  print(f\"Hola {nombre}, ¿Cómo estas?\")\n",
        "\n",
        "\n",
        "def multiplicar(valor,veces):\n",
        "  if valor != None:\n",
        "    c = valor * veces\n",
        "  else:\n",
        "    c = \"Operacion no valida\"\n",
        "  return c\n",
        "  \n",
        "def operacion(a,b,c):\n",
        "  res = a + (b / c)\n",
        "  return res\n",
        "\n",
        "\n",
        "\n",
        "\n",
        "print(sumar(2,6))\n",
        "saludar(\"Jesus\")\n",
        "\n",
        "print(multiplicar(5,6))\n",
        "print(multiplicar(None,6))\n",
        "\n",
        "print(operacion(2,9,3))\n",
        "print(operacion(2,3,9))"
      ],
      "execution_count": 13,
      "outputs": [
        {
          "output_type": "stream",
          "text": [
            "15\n",
            "8\n",
            "Hola Jesus, ¿Cómo estas?\n",
            "30\n",
            "Operacion no valida\n",
            "5.0\n",
            "2.3333333333333335\n"
          ],
          "name": "stdout"
        }
      ]
    },
    {
      "cell_type": "code",
      "metadata": {
        "id": "mdXgIt6P-fYs",
        "outputId": "c89c6b6e-6910-4aa9-c52c-e6cc6a38a7d2",
        "colab": {
          "base_uri": "https://localhost:8080/",
          "height": 292
        }
      },
      "source": [
        "# Valores por defecto\n",
        "def comanda(primer , fuerte , postre=\"Galletas de animalito\") :\n",
        "  print(f\"De entrada pidio:{primer}\")\n",
        "  print(f\"De plato fuerte pidio:{fuerte}\")\n",
        "  print(f\"De postre pidio:{postre}\")\n",
        "\n",
        "# Argumentos posicionales con tuplas *\n",
        "def comanda_2( *opciones ):\n",
        "  print(opciones)\n",
        "  print(f\"De entrada pidio:{opciones[0]}\")\n",
        "  print(f\"De plato fuerte pidio:{opciones[1]}\")\n",
        "  print(f\"De postre pidio:{opciones[2]}\")\n",
        "  print(\"\\nIndicaciones extra:\")\n",
        "  for ind in opciones[3::]:\n",
        "    print(f\"\\t{ind}\")\n",
        "\n",
        "\n",
        "comanda(\"Sopa aguada\",\"Tortas de papa\",\"Gelatina de limon\")\n",
        "comanda(\"Sopa aguada\",\"Tortas de papa\")\n",
        "\n",
        "comanda_2(\"Sopa aguada\",\"Tortas de papa\",\"Gelatina de limon\",\n",
        "          \"Las tortas bien doradas\", \"traer 2 limones\",\"Agua con hielo\")"
      ],
      "execution_count": 20,
      "outputs": [
        {
          "output_type": "stream",
          "text": [
            "De entrada pidio:Sopa aguada\n",
            "De plato fuerte pidio:Tortas de papa\n",
            "De postre pidio:Gelatina de limon\n",
            "De entrada pidio:Sopa aguada\n",
            "De plato fuerte pidio:Tortas de papa\n",
            "De postre pidio:Galletas de animalito\n",
            "('Sopa aguada', 'Tortas de papa', 'Gelatina de limon', 'Las tortas bien doradas', 'traer 2 limones', 'Agua con hielo')\n",
            "De entrada pidio:Sopa aguada\n",
            "De plato fuerte pidio:Tortas de papa\n",
            "De postre pidio:Gelatina de limon\n",
            "\n",
            "Indicaciones extra:\n",
            "\tLas tortas bien doradas\n",
            "\ttraer 2 limones\n",
            "\tAgua con hielo\n"
          ],
          "name": "stdout"
        }
      ]
    },
    {
      "cell_type": "code",
      "metadata": {
        "id": "zp8dc0PaB3fp",
        "outputId": "cd1fec7a-0d5e-4bdc-e215-3d52db7cc3cc",
        "colab": {
          "base_uri": "https://localhost:8080/",
          "height": 156
        }
      },
      "source": [
        "# Argumentos posicionales ocn diccionarios **\n",
        "def comanda_3( **opciones ):\n",
        "  print(opciones)\n",
        "  for op in opciones.items():\n",
        "    print(f\"{op[0]} -> {op[1]}\")\n",
        "\n",
        "comanda_3(primer=\"Sopa aguada\",fuerte=\"Tortas de papa\",postre=\"Gelatina de limon\",\n",
        "          extra1=\"Las tortas bien doradas\", extra2=\"traer 2 limones\", extra3=\"Agua con hielo\")"
      ],
      "execution_count": 23,
      "outputs": [
        {
          "output_type": "stream",
          "text": [
            "{'primer': 'Sopa aguada', 'fuerte': 'Tortas de papa', 'postre': 'Gelatina de limon', 'extra1': 'Las tortas bien doradas', 'extra2': 'traer 2 limones', 'extra3': 'Agua con hielo'}\n",
            "primer -> Sopa aguada\n",
            "fuerte -> Tortas de papa\n",
            "postre -> Gelatina de limon\n",
            "extra1 -> Las tortas bien doradas\n",
            "extra2 -> traer 2 limones\n",
            "extra3 -> Agua con hielo\n"
          ],
          "name": "stdout"
        }
      ]
    }
  ]
}