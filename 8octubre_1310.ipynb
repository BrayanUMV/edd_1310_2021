{
  "nbformat": 4,
  "nbformat_minor": 0,
  "metadata": {
    "colab": {
      "name": "8octubre_1310.ipynb",
      "provenance": []
    },
    "kernelspec": {
      "name": "python3",
      "display_name": "Python 3"
    }
  },
  "cells": [
    {
      "cell_type": "code",
      "metadata": {
        "id": "PJg3CCx89NMo",
        "outputId": "f3809fa0-baba-4de1-98a6-b70b51925e6b",
        "colab": {
          "base_uri": "https://localhost:8080/",
          "height": 120
        }
      },
      "source": [
        "#Listas dentro de listas\n",
        "\n",
        "monitores =[[\"Samsung\",\"17.3 \\\"\",1024],[\"BenQ\",\"40\\\"\",2048]]\n",
        "procesadores = [[\"Intel\",\"i7\",3.4],[\"AMD\",\"razzer\",3.3],[\"Intel\",\"i3\",3.1]]\n",
        "memorias = [[\"Kingston\", \"8GB\",\"DDR4\"],[\"Kingston\", \"16GB\",\"DDR3\"],[\"ADATA\", \"32GB\",\"DDR4\"]]\n",
        "\n",
        "componentes = [monitores,procesadores,memorias]\n",
        "print(componentes[1])\n",
        "print(componentes[2][1][1])\n",
        "print(int(componentes[0][1][2])*2)\n",
        "print(componentes[1][1][1][1:4])\n",
        "print(componentes[2][2][0].lower())\n",
        "\n",
        "\"\"\"i=0\n",
        "while(i<3):\n",
        "  print(componentes[1][i][1])\n",
        "  i = i + 1\"\"\"\n"
      ],
      "execution_count": null,
      "outputs": [
        {
          "output_type": "stream",
          "text": [
            "[['Intel', 'i7', 3.4], ['AMD', 'razzer', 3.3], ['Intel', 'i3', 3.1]]\n",
            "16GB\n",
            "4096\n",
            "azz\n",
            "adata\n"
          ],
          "name": "stdout"
        },
        {
          "output_type": "execute_result",
          "data": {
            "application/vnd.google.colaboratory.intrinsic+json": {
              "type": "string"
            },
            "text/plain": [
              "'i=0\\nwhile(i<3):\\n  print(componentes[1][i][1])\\n  i = i + 1'"
            ]
          },
          "metadata": {
            "tags": []
          },
          "execution_count": 23
        }
      ]
    },
    {
      "cell_type": "code",
      "metadata": {
        "id": "MvkehoZ7JCo7",
        "outputId": "525b2bf1-d8fc-4fcb-e9f8-4df9a036f969",
        "colab": {
          "base_uri": "https://localhost:8080/",
          "height": 102
        }
      },
      "source": [
        "# copiar listas\n",
        "# extender listas\n",
        "frutas =[\"manzana\" , \"pera\"]\n",
        "otras_frutas = [\"aguacate\",\"sandia\"]\n",
        "\n",
        "# + sobre lista\n",
        "frutas = frutas + otras_frutas\n",
        "print(frutas)\n",
        "\n",
        "\n",
        "# funcion extend()\n",
        "frutas.append(otras_frutas)\n",
        "print(frutas)\n",
        "\n",
        "# copiar\n",
        "colores = [\"azul\",\"rojo\",\"verde\",\"violeta\"]\n",
        "otros_colores = colores\n",
        "print(colores,\"\\n\",otros_colores)\n",
        "\n",
        "# unpaking de listas\n",
        "alumno = [\"Jesus\",\"Perez\",\"Herrera\",22,\"ICO\",10.0]\n",
        "nombre = alumno[0]\n",
        "paterno = alumno[1]\n",
        "# etc.\n",
        "nombre,paterno,materno,edad,carrera,promedio = alumno\n",
        "print(f\"Alumno:{nombre} Carrera:{carrera} Promedio:{promedio}\")"
      ],
      "execution_count": null,
      "outputs": [
        {
          "output_type": "stream",
          "text": [
            "['manzana', 'pera', 'aguacate', 'sandia']\n",
            "['manzana', 'pera', 'aguacate', 'sandia', ['aguacate', 'sandia']]\n",
            "['azul', 'rojo', 'verde', 'violeta'] \n",
            " ['azul', 'rojo', 'verde', 'violeta']\n",
            "Alumno:Jesus Carrera:ICO Promedio:10.0\n"
          ],
          "name": "stdout"
        }
      ]
    },
    {
      "cell_type": "markdown",
      "metadata": {
        "id": "vBCmcEn0R1sK"
      },
      "source": [
        "# Tuplas\n",
        "- Se declaran con ( )\n",
        "- Selector con [ ]\n",
        "- NO son mutables\n"
      ]
    },
    {
      "cell_type": "code",
      "metadata": {
        "id": "nBBPQAvDR4VR",
        "outputId": "804256c4-70a2-4254-f245-00d0583c892d",
        "colab": {
          "base_uri": "https://localhost:8080/",
          "height": 68
        }
      },
      "source": [
        "precios = (99.99 , 49.9 , 12.45 , 23.3 , 33.44 , 55.66)\n",
        "print(precios[1])\n",
        "#precios[1] = 50.0\n",
        "print(precios)\n",
        "print(precios[2:4])"
      ],
      "execution_count": null,
      "outputs": [
        {
          "output_type": "stream",
          "text": [
            "49.9\n",
            "(99.99, 49.9, 12.45, 23.3, 33.44, 55.66)\n",
            "(12.45, 23.3)\n"
          ],
          "name": "stdout"
        }
      ]
    },
    {
      "cell_type": "markdown",
      "metadata": {
        "id": "habP4C7TTkS7"
      },
      "source": [
        "# Diccionarios\n",
        "- Se declara con { }\n",
        "- SI son mutables \n",
        "- Conjunto de pares llave: valor\n",
        "- Equivalente a los objetos JSON de JavaScript"
      ]
    },
    {
      "cell_type": "code",
      "metadata": {
        "id": "rIdF_MXmT-wV",
        "outputId": "2e9917d0-0113-4d85-f803-81640fc0a19f",
        "colab": {
          "base_uri": "https://localhost:8080/",
          "height": 122
        }
      },
      "source": [
        "cliente = {}\n",
        "print(cliente)\n",
        "alumno = { \"num_cta\" :317241677 }\n",
        "\n",
        "alumno = { \"num_cta\" :317241677 ,\n",
        "           \"carrera\" :\"ICO\" ,\n",
        "           \"promedio\" :9.8 ,\n",
        "           \"materias\" :[\"EDD\",\"CyP\",\"Calidad\",\"Emprendimiento\"] ,\n",
        "           \"direccion\" :{\n",
        "                          \"calle\" :\"rancho seco\" ,\n",
        "                          \"numero\" :23 ,\n",
        "                          \"delegacion\" :\"Neza\" ,\n",
        "                          \"estado\" : {\n",
        "                                      \"id\" :15 ,\n",
        "                                      \"nombre\" :\"Estado de mexico\" ,\n",
        "                                      \"nombre_corto\" :\"EdoMex\"\n",
        "                              \n",
        "                                      } ,\n",
        "                          \"CP\" :56607\n",
        "                          }\n",
        "           }\n",
        "print(alumno)\n",
        "print(alumno[\"materias\"])\n",
        "print(alumno[\"direccion\"])\n",
        "print(alumno[\"direccion\"][\"estado\"][\"nombre_corto\"])"
      ],
      "execution_count": null,
      "outputs": [
        {
          "output_type": "stream",
          "text": [
            "{}\n",
            "{'num_cta': 317241677, 'carrera': 'ICO', 'promedio': 9.8, 'materias': ['EDD', 'CyP', 'Calidad', 'Emprendimiento'], 'direccion': {'calle': 'rancho seco', 'numero': 23, 'delegacion': 'Neza', 'estado': {'id': 15, 'nombre': 'Estado de mexico', 'nombre_corto': 'EdoMex'}, 'CP': 56607}}\n",
            "['EDD', 'CyP', 'Calidad', 'Emprendimiento']\n",
            "{'calle': 'rancho seco', 'numero': 23, 'delegacion': 'Neza', 'estado': {'id': 15, 'nombre': 'Estado de mexico', 'nombre_corto': 'EdoMex'}, 'CP': 56607}\n",
            "EdoMex\n"
          ],
          "name": "stdout"
        }
      ]
    }
  ]
}