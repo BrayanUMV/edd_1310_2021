{
  "nbformat": 4,
  "nbformat_minor": 0,
  "metadata": {
    "colab": {
      "name": "6octubre_1310.ipynb",
      "provenance": []
    },
    "kernelspec": {
      "name": "python3",
      "display_name": "Python 3"
    }
  },
  "cells": [
    {
      "cell_type": "code",
      "metadata": {
        "id": "wmHCKc8Pvb5h"
      },
      "source": [
        "#String continuacion...\n",
        "numeros_txt = \"1,  2, 3, 4, 5, 35, 15 , 12\"\n",
        "print (numeros_txt)\n",
        "numeros_txt =numeros_txt.lstrip().split(',')\n",
        "print (numeros_txt)\n",
        "\n",
        "for j in range(len(numeros_txt)):\n",
        "    numeros_txt[ j ] = int(numeros_txt[j].strip())\n",
        "\n",
        "print(numeros_txt)\n",
        "\n",
        "#funcion range\n",
        "\n",
        "#range(inicio, stop, incremento)\n",
        "print(range(1,10,3))\n",
        "\n",
        "rango = range(1,10,2)\n",
        "for x in rango:\n",
        "  print(x)\n",
        "\n",
        "rango = range(10)\n",
        "for x in rango:\n",
        "  print(x)"
      ],
      "execution_count": null,
      "outputs": []
    },
    {
      "cell_type": "code",
      "metadata": {
        "id": "oh9CGjGbyQpH",
        "outputId": "11a749f0-f546-4677-e9ec-e33e63d892fe",
        "colab": {
          "base_uri": "https://localhost:8080/",
          "height": 272
        }
      },
      "source": [
        "#Listas\n",
        "\n",
        "frutas = [ \"Pera\" , \"Manzana\" , \"Fresa\" , \"Kiwi\" , \"Naranja\"]\n",
        "print(frutas)\n",
        "\n",
        "cosas = [\"Cuaderno\" , 2 , 3.1416 , True , False , [\"Rojo\" , \"Azul\"]]\n",
        "print(cosas)\n",
        "\n",
        "frutas[2] = \"Helado de Fresa\"\n",
        "print(frutas)\n",
        "\n",
        "# agregar a la lista\n",
        "\n",
        "frutas.append(\"Aguacate\")\n",
        "print(frutas)\n",
        "\n",
        "frutas.insert(2,\"Sandia\")\n",
        "print(frutas)\n",
        "\n",
        "# concatenar lista\n",
        "\n",
        "fecha = [\"06\" , \"10\" , \"2020\"] # 06/10/2020\n",
        "print(fecha)\n",
        "fecha_str = \"/\".join(fecha)\n",
        "print(fecha_str)\n",
        "\n",
        "# eliminar elementos\n",
        "\n",
        "print(cosas)\n",
        "cosas.append(\"Libro\")\n",
        "cosas.append(\"Lapiz\")\n",
        "print(cosas)\n",
        "algo = cosas.pop()\n",
        "print(cosas)\n",
        "\n",
        "algo = cosas.pop(2)\n",
        "print(cosas)\n",
        "print(algo)\n",
        "\n",
        "# vaciar una lista\n",
        "\n",
        "# cosas.clear()\n",
        "print(cosas)\n",
        "\n",
        "# ordenar \n",
        "print(frutas)\n",
        "frutas.sort()\n",
        "print(frutas)\n",
        "\n"
      ],
      "execution_count": 1,
      "outputs": [
        {
          "output_type": "stream",
          "text": [
            "['Pera', 'Manzana', 'Fresa', 'Kiwi', 'Naranja']\n",
            "['Cuaderno', 2, 3.1416, True, False, ['Rojo', 'Azul']]\n",
            "['Pera', 'Manzana', 'Helado de Fresa', 'Kiwi', 'Naranja']\n",
            "['Pera', 'Manzana', 'Helado de Fresa', 'Kiwi', 'Naranja', 'Aguacate']\n",
            "['Pera', 'Manzana', 'Sandia', 'Helado de Fresa', 'Kiwi', 'Naranja', 'Aguacate']\n",
            "['06', '10', '2020']\n",
            "06/10/2020\n",
            "['Cuaderno', 2, 3.1416, True, False, ['Rojo', 'Azul']]\n",
            "['Cuaderno', 2, 3.1416, True, False, ['Rojo', 'Azul'], 'Libro', 'Lapiz']\n",
            "['Cuaderno', 2, 3.1416, True, False, ['Rojo', 'Azul'], 'Libro']\n",
            "['Cuaderno', 2, True, False, ['Rojo', 'Azul'], 'Libro']\n",
            "3.1416\n",
            "['Cuaderno', 2, True, False, ['Rojo', 'Azul'], 'Libro']\n",
            "['Pera', 'Manzana', 'Sandia', 'Helado de Fresa', 'Kiwi', 'Naranja', 'Aguacate']\n",
            "['Aguacate', 'Helado de Fresa', 'Kiwi', 'Manzana', 'Naranja', 'Pera', 'Sandia']\n"
          ],
          "name": "stdout"
        }
      ]
    },
    {
      "cell_type": "code",
      "metadata": {
        "id": "WGbcyChK7kLZ",
        "outputId": "de3edb08-c14b-4b1e-f2ae-8f7ceeba7fe5",
        "colab": {
          "base_uri": "https://localhost:8080/",
          "height": 136
        }
      },
      "source": [
        "# Slicing\n",
        "\n",
        "cosas = [\"cuaderno\" , 2 , 3.1415 ,True , False , [\"Rojo\" , \"Azul\"]]\n",
        "print(cosas[3:5:1])\n",
        "print(cosas)\n",
        "print(cosas[0][3:5:1])\n",
        "\n",
        "numeros = [1,2,3,4,5,6,7,8,9,10,11,12,13,14,15]\n",
        "print(numeros[7:12:1])\n",
        "\n",
        "# sustituir rebanadas -2,-2 --> [1,2,3,4,5,6,7,-2,-2,13,14,15]\n",
        "\n",
        "numeros[7:12:1] = [-2,-2]\n",
        "print(numeros)\n",
        "\n",
        "# preguntar por existencia\n",
        "\n",
        "print(-2 in numeros)\n",
        "print(-3 in numeros)"
      ],
      "execution_count": null,
      "outputs": [
        {
          "output_type": "stream",
          "text": [
            "[True, False]\n",
            "['cuaderno', 2, 3.1415, True, False, ['Rojo', 'Azul']]\n",
            "de\n",
            "[8, 9, 10, 11, 12]\n",
            "[1, 2, 3, 4, 5, 6, 7, -2, -2, 13, 14, 15]\n",
            "True\n",
            "False\n"
          ],
          "name": "stdout"
        }
      ]
    },
    {
      "cell_type": "markdown",
      "metadata": {
        "id": "XkE6ApwY-k8i"
      },
      "source": [
        "# listas multi dimensión\n",
        "listas dentro de listas\n",
        "\n"
      ]
    },
    {
      "cell_type": "code",
      "metadata": {
        "id": "EGTCw_Dx-uRs",
        "outputId": "3a4d44ba-39c3-4911-ed35-315fb1df798a",
        "colab": {
          "base_uri": "https://localhost:8080/",
          "height": 119
        }
      },
      "source": [
        "computadoras = [\"HP\" , \"Mac Book Pro\" , \"Mate Book\" , \"Lenovo legion\"]\n",
        "oss = [\"Windows 10\" , \"Linux\" , \"Android\" , \"iOS\"]\n",
        "computo = [computadoras , oss]\n",
        "print(computo[0])\n",
        "print(computo[1])\n",
        "print(computo[0][2])\n",
        "print(computo[0][2][0:4])\n",
        "print(computo[1][1][5::-1])\n",
        "print(\"Linux\" in computo[1])"
      ],
      "execution_count": null,
      "outputs": [
        {
          "output_type": "stream",
          "text": [
            "['HP', 'Mac Book Pro', 'Mate Book', 'Lenovo legion']\n",
            "['Windows 10', 'Linux', 'Android', 'iOS']\n",
            "Mate Book\n",
            "Mate\n",
            "xuniL\n",
            "True\n"
          ],
          "name": "stdout"
        }
      ]
    }
  ]
}