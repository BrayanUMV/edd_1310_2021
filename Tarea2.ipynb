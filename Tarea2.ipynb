{
  "nbformat": 4,
  "nbformat_minor": 0,
  "metadata": {
    "colab": {
      "name": "Tarea2.ipynb",
      "provenance": [],
      "collapsed_sections": [],
      "authorship_tag": "ABX9TyMYbLRmQkDxchAaeook1g/j",
      "include_colab_link": true
    },
    "kernelspec": {
      "name": "python3",
      "display_name": "Python 3"
    }
  },
  "cells": [
    {
      "cell_type": "markdown",
      "metadata": {
        "id": "view-in-github",
        "colab_type": "text"
      },
      "source": [
        "<a href=\"https://colab.research.google.com/github/BrayanUMV/edd_1310_2021/blob/main/Tarea2.ipynb\" target=\"_parent\"><img src=\"https://colab.research.google.com/assets/colab-badge.svg\" alt=\"Open In Colab\"/></a>"
      ]
    },
    {
      "cell_type": "code",
      "metadata": {
        "id": "pMqjy7EXImCs",
        "outputId": "6134bf1f-6db9-4365-91aa-7aa8e88892c7",
        "colab": {
          "base_uri": "https://localhost:8080/",
          "height": 884
        }
      },
      "source": [
        "\n",
        "archivo = open('Datos.txt','r')\n",
        "\n",
        "data = 'a'\n",
        "total = 0\n",
        "while (True):\n",
        "  data = archivo.readline().replace( \" \",\"\")\n",
        "  print(data)\n",
        "  datos = data.split(\",\")\n",
        "  suma = 0\n",
        "\n",
        "  if not data:\n",
        "        break\n",
        "\n",
        "  for x in datos:\n",
        "    suma += int(x)\n",
        "    \n",
        "    \n",
        "  print(\"La suma de este renglon es: \",suma)\n",
        "  total += suma\n",
        "  print(\"\\n\")\n",
        "\n",
        "print(\"La suma total es: \",total)\n",
        "  \n",
        "archivo.close()"
      ],
      "execution_count": 283,
      "outputs": [
        {
          "output_type": "stream",
          "text": [
            "1,2,1,14,29,45,5,58,56,10,29,14,88,17,4,3,1,7,12,10\n",
            "\n",
            "La suma de este renglon es:  406\n",
            "\n",
            "\n",
            "2,23,5,8,44,2,2,13,5,9,10,16,98,76,47,1,1,3,2\n",
            "\n",
            "La suma de este renglon es:  367\n",
            "\n",
            "\n",
            "3,87,15,11,9,7,90,97,21,3,4,1,8,88,74,32,34,43,17,77,93\n",
            "\n",
            "La suma de este renglon es:  814\n",
            "\n",
            "\n",
            "4,46,8,1,6,2,10,37,84,4,5,9,10,2,6,3,1,1,1,8,4,20,33,23,18,45\n",
            "\n",
            "La suma de este renglon es:  391\n",
            "\n",
            "\n",
            "55,3,2,29,58,83,9,17,1,43,20,93,31,46,43,77,8,44,45,17,62\n",
            "\n",
            "La suma de este renglon es:  786\n",
            "\n",
            "\n",
            "6,74,13,44,18,45,11,93,2,1,1,1,25,1,42,18,22,44,52\n",
            "\n",
            "La suma de este renglon es:  513\n",
            "\n",
            "\n",
            "7,88,93,6,54,2,8,1,41,86,79,33,48,9,32,63,18,7,33,2,1,16,11,7\n",
            "\n",
            "La suma de este renglon es:  745\n",
            "\n",
            "\n",
            "8,0,22,17,30,6,2,12,47,37,34,85,47,33,2,6,8,4,5,29,30,42,77,2\n",
            "\n",
            "La suma de este renglon es:  585\n",
            "\n",
            "\n",
            "9,2,3,4,1,1,3,6,7,7,8,9,5,1,3,4,9,10,12,3,1,5,6,22,11,0,2\n",
            "\n",
            "La suma de este renglon es:  154\n",
            "\n",
            "\n",
            "1,0,2,55,9,3,55,23,1,6,9,4,5,3,3,2,1,3,8,1,6,10,0,1,5,1,3\n",
            "La suma de este renglon es:  220\n",
            "\n",
            "\n",
            "\n",
            "La suma total es:  4981\n"
          ],
          "name": "stdout"
        }
      ]
    }
  ]
}