{
  "nbformat": 4,
  "nbformat_minor": 0,
  "metadata": {
    "colab": {
      "name": "Tarea3.ipynb",
      "provenance": [],
      "authorship_tag": "ABX9TyPp2odFm8QBpjRN4+XwTwyb",
      "include_colab_link": true
    },
    "kernelspec": {
      "name": "python3",
      "display_name": "Python 3"
    }
  },
  "cells": [
    {
      "cell_type": "markdown",
      "metadata": {
        "id": "view-in-github",
        "colab_type": "text"
      },
      "source": [
        "<a href=\"https://colab.research.google.com/github/BrayanUMV/edd_1310_2021/blob/main/Tarea3.ipynb\" target=\"_parent\"><img src=\"https://colab.research.google.com/assets/colab-badge.svg\" alt=\"Open In Colab\"/></a>"
      ]
    },
    {
      "cell_type": "code",
      "metadata": {
        "id": "8IR6DUzccvC4",
        "outputId": "8b2605c9-dde9-49ca-ff73-a840ed44b4be",
        "colab": {
          "base_uri": "https://localhost:8080/",
          "height": 51
        }
      },
      "source": [
        "class Persona:\n",
        "\n",
        "    def __init__(self, nombre, edad, estatura):\n",
        "        self.nombre = nombre\n",
        "        self.edad = edad\n",
        "        self.estatura = estatura\n",
        "\n",
        "    def dormir():\n",
        "        print(f\"Durmiendo\")\n",
        "        \n",
        "    def comer():\n",
        "        print(f\"Comiendo\")\n",
        "\n",
        "\n",
        "Persona.dormir()\n",
        "Persona.comer()"
      ],
      "execution_count": 16,
      "outputs": [
        {
          "output_type": "stream",
          "text": [
            "Durmiendo\n",
            "Comiendo\n"
          ],
          "name": "stdout"
        }
      ]
    },
    {
      "cell_type": "code",
      "metadata": {
        "id": "KGVSpYBoejdm",
        "outputId": "9dd240ee-c170-4240-d7ea-a1374953dac4",
        "colab": {
          "base_uri": "https://localhost:8080/",
          "height": 51
        }
      },
      "source": [
        "class Celular:\n",
        "\n",
        "    def __init__(self, marca, modelo, espacio):\n",
        "        self.marca = \"Huawei\"\n",
        "        self.modelo = \"Y9\"\n",
        "        self.espacio = \"64 GB\"\n",
        "\n",
        "    def llamar():\n",
        "        print(f\"Llamando al profesor...\")\n",
        "        \n",
        "    def poner_alarma():\n",
        "        print(f\"Alarma establecida a las 6:00 AM\")\n",
        "\n",
        "\n",
        "Celular.llamar()\n",
        "Celular.poner_alarma()"
      ],
      "execution_count": 25,
      "outputs": [
        {
          "output_type": "stream",
          "text": [
            "Llamando al profesor...\n",
            "Alarma establecida a las 6:00 AM\n"
          ],
          "name": "stdout"
        }
      ]
    }
  ]
}